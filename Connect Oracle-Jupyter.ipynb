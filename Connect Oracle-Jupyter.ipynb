{
 "cells": [
  {
   "cell_type": "markdown",
   "id": "e766f773",
   "metadata": {},
   "source": [
    "## import module cx_Oracle "
   ]
  },
  {
   "cell_type": "code",
   "execution_count": 1,
   "id": "6e29b034",
   "metadata": {},
   "outputs": [],
   "source": [
    "import cx_Oracle\n",
    "import pandas as pd"
   ]
  },
  {
   "cell_type": "markdown",
   "id": "33e72af7",
   "metadata": {},
   "source": [
    "## Connect to Oracle Database "
   ]
  },
  {
   "cell_type": "code",
   "execution_count": 2,
   "id": "d5f39443",
   "metadata": {},
   "outputs": [],
   "source": [
    "con=cx_Oracle.connect('XE/XE@localhost') # give username and password of Oracle workspace"
   ]
  },
  {
   "cell_type": "markdown",
   "id": "8ef830ba",
   "metadata": {},
   "source": [
    "## Create cursor"
   ]
  },
  {
   "cell_type": "code",
   "execution_count": 3,
   "id": "154cdfa4",
   "metadata": {},
   "outputs": [],
   "source": [
    "cur=con.cursor()"
   ]
  },
  {
   "cell_type": "markdown",
   "id": "fa7552c1",
   "metadata": {},
   "source": [
    "## Execute query"
   ]
  },
  {
   "cell_type": "code",
   "execution_count": 4,
   "id": "b1f538f7",
   "metadata": {},
   "outputs": [],
   "source": [
    "stat=cur.execute('select * from mobile_under_50k')"
   ]
  },
  {
   "cell_type": "markdown",
   "id": "8b5f0c2c",
   "metadata": {},
   "source": [
    "## Fetch result"
   ]
  },
  {
   "cell_type": "code",
   "execution_count": 5,
   "id": "42d93333",
   "metadata": {},
   "outputs": [],
   "source": [
    "results=stat.fetchmany(5)"
   ]
  },
  {
   "cell_type": "code",
   "execution_count": 6,
   "id": "3d93b2e3",
   "metadata": {},
   "outputs": [
    {
     "data": {
      "text/plain": [
       "[(55,\n",
       "  54,\n",
       "  '\"APPLE iPhone 8 Plus (Gold, 64 GB)\"',\n",
       "  '\"₹49,900\"',\n",
       "  '\"64 GB ROM13.97 cm (5.5 inch) Retina HD Display12MP + 12MP | 7MP Front CameraA11 Bionic Chip with 64-bit Architecture, Neural Engine, Embedded M11 Motion Coprocessor ProcessorBrand Warranty of 1 Year\"',\n",
       "  4.6),\n",
       " (56,\n",
       "  55,\n",
       "  '\"APPLE iPhone 8 Plus (Silver, 64 GB)\"',\n",
       "  '\"₹49,900\"',\n",
       "  '\"64 GB ROM13.97 cm (5.5 inch) Retina HD Display12MP + 12MP | 7MP Front CameraA11 Bionic Chip with 64-bit Architecture, Neural Engine, Embedded M11 Motion Coprocessor ProcessorBrand Warranty of 1 Year\"',\n",
       "  4.6),\n",
       " (57,\n",
       "  56,\n",
       "  '\"OnePlus 11R 5G (Sonic Black, 256 GB)\"',\n",
       "  '\"₹43,429\"',\n",
       "  '16 GB RAM | 256 GB ROM17.02 cm (6.7 inch) Display50MP Rear Camera5000 mAh BatteryDomestic warranty of 12 months on phone & 6 months on accessries',\n",
       "  4.5),\n",
       " (58,\n",
       "  57,\n",
       "  '\"OnePlus 11R 5G (Galactic Silver, 128 GB)\"',\n",
       "  '\"₹38,891\"',\n",
       "  '8 GB RAM | 128 GB ROM17.02 cm (6.7 inch) Display50MP Rear Camera5000 mAh BatteryDomestic warranty of 12 months on phone & 6 months on accessories',\n",
       "  4.5),\n",
       " (59,\n",
       "  58,\n",
       "  '\"OnePlus 11R 5G (Sonic Black, 256 GB)\"',\n",
       "  '\"₹44,400\"',\n",
       "  '16 GB RAM | 256 GB ROM17.02 cm (6.7 inch) Display50MP Rear Camera5000 mAh BatteryDomestic Warranty of 12 Months on Phone & 6 Months on Accessories',\n",
       "  4.5)]"
      ]
     },
     "execution_count": 6,
     "metadata": {},
     "output_type": "execute_result"
    }
   ],
   "source": [
    "results"
   ]
  },
  {
   "cell_type": "code",
   "execution_count": 7,
   "id": "f17a565e",
   "metadata": {},
   "outputs": [],
   "source": [
    "r=stat.fetchmany(2)"
   ]
  },
  {
   "cell_type": "code",
   "execution_count": 8,
   "id": "31341098",
   "metadata": {},
   "outputs": [
    {
     "name": "stdout",
     "output_type": "stream",
     "text": [
      "[(60, 59, '\"OPPO Reno10 Pro 5G (Glossy Purple, 256 GB)\"', '\"₹39,999\"', '12 GB RAM | 256 GB ROM17.02 cm (6.7 inch) Full HD+ Display50MP + 32MP + 8MP | 32MP Front Camera4600 mAh BatterySnapdragon 778G 5G Processor1 Year Manufacturer Warranty for Phone and 6 Months Warranty for In the Box Accessories', 4.3), (61, 60, '\"Nothing Phone (2) (Dark Grey, 128 GB)\"', '\"₹44,999\"', '8 GB RAM | 128 GB ROM17.02 cm (6.7 inch) Full HD+ Display50 MP(OIS) +50MP | 32MP Front Camera4700 mAh Lithium ion BatteryQualcomm Snapdragon 8+ Gen 1 ProcessorLTPO AMOLED (1 Hz - 120 Hz)1 Year Manufacturing Warranty', 4.4)]\n"
     ]
    }
   ],
   "source": [
    "print(r)"
   ]
  },
  {
   "cell_type": "code",
   "execution_count": 9,
   "id": "590b3f2f",
   "metadata": {},
   "outputs": [
    {
     "name": "stdout",
     "output_type": "stream",
     "text": [
      "<cx_Oracle.Cursor on <cx_Oracle.Connection to XE@localhost>>\n"
     ]
    }
   ],
   "source": [
    "s='select product_name from mobile_under_50k'\n",
    "r=cur.execute(s)\n",
    "print(r)"
   ]
  },
  {
   "cell_type": "code",
   "execution_count": 10,
   "id": "5fa1354f",
   "metadata": {},
   "outputs": [
    {
     "data": {
      "text/plain": [
       "[('\"APPLE iPhone 8 Plus (Gold, 64 GB)\"',),\n",
       " ('\"APPLE iPhone 8 Plus (Silver, 64 GB)\"',),\n",
       " ('\"OnePlus 11R 5G (Sonic Black, 256 GB)\"',),\n",
       " ('\"OnePlus 11R 5G (Galactic Silver, 128 GB)\"',),\n",
       " ('\"OnePlus 11R 5G (Sonic Black, 256 GB)\"',)]"
      ]
     },
     "execution_count": 10,
     "metadata": {},
     "output_type": "execute_result"
    }
   ],
   "source": [
    "cur.fetchmany(5)"
   ]
  },
  {
   "cell_type": "code",
   "execution_count": 11,
   "id": "d5c65ced",
   "metadata": {},
   "outputs": [
    {
     "data": {
      "text/plain": [
       "<cx_Oracle.Cursor on <cx_Oracle.Connection to XE@localhost>>"
      ]
     },
     "execution_count": 11,
     "metadata": {},
     "output_type": "execute_result"
    }
   ],
   "source": [
    "cur.execute('select prices from mobile_under_50k')"
   ]
  },
  {
   "cell_type": "code",
   "execution_count": 12,
   "id": "f97a9ee7",
   "metadata": {},
   "outputs": [
    {
     "data": {
      "text/plain": [
       "[('\"₹49,900\"',),\n",
       " ('\"₹49,900\"',),\n",
       " ('\"₹43,429\"',),\n",
       " ('\"₹38,891\"',),\n",
       " ('\"₹44,400\"',)]"
      ]
     },
     "execution_count": 12,
     "metadata": {},
     "output_type": "execute_result"
    }
   ],
   "source": [
    "cur.fetchmany(5)"
   ]
  },
  {
   "cell_type": "code",
   "execution_count": 13,
   "id": "51e3d2ce",
   "metadata": {},
   "outputs": [
    {
     "data": {
      "text/plain": [
       "<cx_Oracle.Cursor on <cx_Oracle.Connection to XE@localhost>>"
      ]
     },
     "execution_count": 13,
     "metadata": {},
     "output_type": "execute_result"
    }
   ],
   "source": [
    "cur.execute('select max(prices) from mobile_under_50k')"
   ]
  },
  {
   "cell_type": "code",
   "execution_count": 14,
   "id": "f237d9b3",
   "metadata": {},
   "outputs": [],
   "source": [
    "r=cur.fetchall()"
   ]
  },
  {
   "cell_type": "code",
   "execution_count": 15,
   "id": "afd8cb79",
   "metadata": {},
   "outputs": [
    {
     "name": "stdout",
     "output_type": "stream",
     "text": [
      "\"₹50,983\"\n"
     ]
    }
   ],
   "source": [
    "print(r[0][0])"
   ]
  },
  {
   "cell_type": "code",
   "execution_count": 16,
   "id": "67f3bcbd",
   "metadata": {},
   "outputs": [],
   "source": [
    "stmt=cur.execute('select count(*) from mobile_under_50k')"
   ]
  },
  {
   "cell_type": "code",
   "execution_count": 17,
   "id": "fdeb08e1",
   "metadata": {},
   "outputs": [
    {
     "data": {
      "text/plain": [
       "(120,)"
      ]
     },
     "execution_count": 17,
     "metadata": {},
     "output_type": "execute_result"
    }
   ],
   "source": [
    "stmt.fetchone()"
   ]
  },
  {
   "cell_type": "markdown",
   "id": "a13f6fa2",
   "metadata": {},
   "source": [
    "## Create dataframe using to_sql()"
   ]
  },
  {
   "cell_type": "code",
   "execution_count": 18,
   "id": "1f97c18d",
   "metadata": {},
   "outputs": [
    {
     "name": "stderr",
     "output_type": "stream",
     "text": [
      "C:\\Users\\Pravin Kumar Pathak\\AppData\\Local\\Temp\\ipykernel_6672\\412768419.py:1: UserWarning: pandas only supports SQLAlchemy connectable (engine/connection) or database string URI or sqlite3 DBAPI2 connection. Other DBAPI2 objects are not tested. Please consider using SQLAlchemy.\n",
      "  df=pd.read_sql('select * from mobile_under_50k',con)\n"
     ]
    }
   ],
   "source": [
    "df=pd.read_sql('select * from mobile_under_50k',con)"
   ]
  },
  {
   "cell_type": "code",
   "execution_count": 19,
   "id": "77319b8b",
   "metadata": {},
   "outputs": [
    {
     "data": {
      "text/html": [
       "<div>\n",
       "<style scoped>\n",
       "    .dataframe tbody tr th:only-of-type {\n",
       "        vertical-align: middle;\n",
       "    }\n",
       "\n",
       "    .dataframe tbody tr th {\n",
       "        vertical-align: top;\n",
       "    }\n",
       "\n",
       "    .dataframe thead th {\n",
       "        text-align: right;\n",
       "    }\n",
       "</style>\n",
       "<table border=\"1\" class=\"dataframe\">\n",
       "  <thead>\n",
       "    <tr style=\"text-align: right;\">\n",
       "      <th></th>\n",
       "      <th>ID</th>\n",
       "      <th>MOBILE DATA</th>\n",
       "      <th>PRODUCT_NAME</th>\n",
       "      <th>PRICES</th>\n",
       "      <th>DESCRIPTION</th>\n",
       "      <th>REVIEWS</th>\n",
       "    </tr>\n",
       "  </thead>\n",
       "  <tbody>\n",
       "    <tr>\n",
       "      <th>0</th>\n",
       "      <td>55</td>\n",
       "      <td>54</td>\n",
       "      <td>\"APPLE iPhone 8 Plus (Gold, 64 GB)\"</td>\n",
       "      <td>\"₹49,900\"</td>\n",
       "      <td>\"64 GB ROM13.97 cm (5.5 inch) Retina HD Displa...</td>\n",
       "      <td>4.6</td>\n",
       "    </tr>\n",
       "    <tr>\n",
       "      <th>1</th>\n",
       "      <td>56</td>\n",
       "      <td>55</td>\n",
       "      <td>\"APPLE iPhone 8 Plus (Silver, 64 GB)\"</td>\n",
       "      <td>\"₹49,900\"</td>\n",
       "      <td>\"64 GB ROM13.97 cm (5.5 inch) Retina HD Displa...</td>\n",
       "      <td>4.6</td>\n",
       "    </tr>\n",
       "    <tr>\n",
       "      <th>2</th>\n",
       "      <td>57</td>\n",
       "      <td>56</td>\n",
       "      <td>\"OnePlus 11R 5G (Sonic Black, 256 GB)\"</td>\n",
       "      <td>\"₹43,429\"</td>\n",
       "      <td>16 GB RAM | 256 GB ROM17.02 cm (6.7 inch) Disp...</td>\n",
       "      <td>4.5</td>\n",
       "    </tr>\n",
       "    <tr>\n",
       "      <th>3</th>\n",
       "      <td>58</td>\n",
       "      <td>57</td>\n",
       "      <td>\"OnePlus 11R 5G (Galactic Silver, 128 GB)\"</td>\n",
       "      <td>\"₹38,891\"</td>\n",
       "      <td>8 GB RAM | 128 GB ROM17.02 cm (6.7 inch) Displ...</td>\n",
       "      <td>4.5</td>\n",
       "    </tr>\n",
       "    <tr>\n",
       "      <th>4</th>\n",
       "      <td>59</td>\n",
       "      <td>58</td>\n",
       "      <td>\"OnePlus 11R 5G (Sonic Black, 256 GB)\"</td>\n",
       "      <td>\"₹44,400\"</td>\n",
       "      <td>16 GB RAM | 256 GB ROM17.02 cm (6.7 inch) Disp...</td>\n",
       "      <td>4.5</td>\n",
       "    </tr>\n",
       "  </tbody>\n",
       "</table>\n",
       "</div>"
      ],
      "text/plain": [
       "   ID  MOBILE DATA                                PRODUCT_NAME     PRICES  \\\n",
       "0  55           54         \"APPLE iPhone 8 Plus (Gold, 64 GB)\"  \"₹49,900\"   \n",
       "1  56           55       \"APPLE iPhone 8 Plus (Silver, 64 GB)\"  \"₹49,900\"   \n",
       "2  57           56      \"OnePlus 11R 5G (Sonic Black, 256 GB)\"  \"₹43,429\"   \n",
       "3  58           57  \"OnePlus 11R 5G (Galactic Silver, 128 GB)\"  \"₹38,891\"   \n",
       "4  59           58      \"OnePlus 11R 5G (Sonic Black, 256 GB)\"  \"₹44,400\"   \n",
       "\n",
       "                                         DESCRIPTION  REVIEWS  \n",
       "0  \"64 GB ROM13.97 cm (5.5 inch) Retina HD Displa...      4.6  \n",
       "1  \"64 GB ROM13.97 cm (5.5 inch) Retina HD Displa...      4.6  \n",
       "2  16 GB RAM | 256 GB ROM17.02 cm (6.7 inch) Disp...      4.5  \n",
       "3  8 GB RAM | 128 GB ROM17.02 cm (6.7 inch) Displ...      4.5  \n",
       "4  16 GB RAM | 256 GB ROM17.02 cm (6.7 inch) Disp...      4.5  "
      ]
     },
     "execution_count": 19,
     "metadata": {},
     "output_type": "execute_result"
    }
   ],
   "source": [
    "df.head()"
   ]
  },
  {
   "cell_type": "code",
   "execution_count": 20,
   "id": "01e551a3",
   "metadata": {},
   "outputs": [
    {
     "data": {
      "text/html": [
       "<div>\n",
       "<style scoped>\n",
       "    .dataframe tbody tr th:only-of-type {\n",
       "        vertical-align: middle;\n",
       "    }\n",
       "\n",
       "    .dataframe tbody tr th {\n",
       "        vertical-align: top;\n",
       "    }\n",
       "\n",
       "    .dataframe thead th {\n",
       "        text-align: right;\n",
       "    }\n",
       "</style>\n",
       "<table border=\"1\" class=\"dataframe\">\n",
       "  <thead>\n",
       "    <tr style=\"text-align: right;\">\n",
       "      <th></th>\n",
       "      <th>ID</th>\n",
       "      <th>MOBILE DATA</th>\n",
       "      <th>PRODUCT_NAME</th>\n",
       "      <th>PRICES</th>\n",
       "      <th>DESCRIPTION</th>\n",
       "      <th>REVIEWS</th>\n",
       "    </tr>\n",
       "  </thead>\n",
       "  <tbody>\n",
       "    <tr>\n",
       "      <th>count</th>\n",
       "      <td>120.000000</td>\n",
       "      <td>120.000000</td>\n",
       "      <td>120</td>\n",
       "      <td>120</td>\n",
       "      <td>120</td>\n",
       "      <td>120.000000</td>\n",
       "    </tr>\n",
       "    <tr>\n",
       "      <th>unique</th>\n",
       "      <td>NaN</td>\n",
       "      <td>NaN</td>\n",
       "      <td>104</td>\n",
       "      <td>47</td>\n",
       "      <td>70</td>\n",
       "      <td>NaN</td>\n",
       "    </tr>\n",
       "    <tr>\n",
       "      <th>top</th>\n",
       "      <td>NaN</td>\n",
       "      <td>NaN</td>\n",
       "      <td>\"OnePlus 10R 5G (Sierra Black, 256 GB)\"</td>\n",
       "      <td>\"₹49,999\"</td>\n",
       "      <td>64 GB ROM15.49 cm (6.1 inch) Liquid Retina HD ...</td>\n",
       "      <td>NaN</td>\n",
       "    </tr>\n",
       "    <tr>\n",
       "      <th>freq</th>\n",
       "      <td>NaN</td>\n",
       "      <td>NaN</td>\n",
       "      <td>4</td>\n",
       "      <td>19</td>\n",
       "      <td>5</td>\n",
       "      <td>NaN</td>\n",
       "    </tr>\n",
       "    <tr>\n",
       "      <th>mean</th>\n",
       "      <td>60.500000</td>\n",
       "      <td>59.500000</td>\n",
       "      <td>NaN</td>\n",
       "      <td>NaN</td>\n",
       "      <td>NaN</td>\n",
       "      <td>4.286667</td>\n",
       "    </tr>\n",
       "    <tr>\n",
       "      <th>std</th>\n",
       "      <td>34.785054</td>\n",
       "      <td>34.785054</td>\n",
       "      <td>NaN</td>\n",
       "      <td>NaN</td>\n",
       "      <td>NaN</td>\n",
       "      <td>0.194864</td>\n",
       "    </tr>\n",
       "    <tr>\n",
       "      <th>min</th>\n",
       "      <td>1.000000</td>\n",
       "      <td>0.000000</td>\n",
       "      <td>NaN</td>\n",
       "      <td>NaN</td>\n",
       "      <td>NaN</td>\n",
       "      <td>3.800000</td>\n",
       "    </tr>\n",
       "    <tr>\n",
       "      <th>25%</th>\n",
       "      <td>30.750000</td>\n",
       "      <td>29.750000</td>\n",
       "      <td>NaN</td>\n",
       "      <td>NaN</td>\n",
       "      <td>NaN</td>\n",
       "      <td>4.200000</td>\n",
       "    </tr>\n",
       "    <tr>\n",
       "      <th>50%</th>\n",
       "      <td>60.500000</td>\n",
       "      <td>59.500000</td>\n",
       "      <td>NaN</td>\n",
       "      <td>NaN</td>\n",
       "      <td>NaN</td>\n",
       "      <td>4.300000</td>\n",
       "    </tr>\n",
       "    <tr>\n",
       "      <th>75%</th>\n",
       "      <td>90.250000</td>\n",
       "      <td>89.250000</td>\n",
       "      <td>NaN</td>\n",
       "      <td>NaN</td>\n",
       "      <td>NaN</td>\n",
       "      <td>4.400000</td>\n",
       "    </tr>\n",
       "    <tr>\n",
       "      <th>max</th>\n",
       "      <td>120.000000</td>\n",
       "      <td>119.000000</td>\n",
       "      <td>NaN</td>\n",
       "      <td>NaN</td>\n",
       "      <td>NaN</td>\n",
       "      <td>4.600000</td>\n",
       "    </tr>\n",
       "  </tbody>\n",
       "</table>\n",
       "</div>"
      ],
      "text/plain": [
       "                ID  MOBILE DATA                             PRODUCT_NAME  \\\n",
       "count   120.000000   120.000000                                      120   \n",
       "unique         NaN          NaN                                      104   \n",
       "top            NaN          NaN  \"OnePlus 10R 5G (Sierra Black, 256 GB)\"   \n",
       "freq           NaN          NaN                                        4   \n",
       "mean     60.500000    59.500000                                      NaN   \n",
       "std      34.785054    34.785054                                      NaN   \n",
       "min       1.000000     0.000000                                      NaN   \n",
       "25%      30.750000    29.750000                                      NaN   \n",
       "50%      60.500000    59.500000                                      NaN   \n",
       "75%      90.250000    89.250000                                      NaN   \n",
       "max     120.000000   119.000000                                      NaN   \n",
       "\n",
       "           PRICES                                        DESCRIPTION  \\\n",
       "count         120                                                120   \n",
       "unique         47                                                 70   \n",
       "top     \"₹49,999\"  64 GB ROM15.49 cm (6.1 inch) Liquid Retina HD ...   \n",
       "freq           19                                                  5   \n",
       "mean          NaN                                                NaN   \n",
       "std           NaN                                                NaN   \n",
       "min           NaN                                                NaN   \n",
       "25%           NaN                                                NaN   \n",
       "50%           NaN                                                NaN   \n",
       "75%           NaN                                                NaN   \n",
       "max           NaN                                                NaN   \n",
       "\n",
       "           REVIEWS  \n",
       "count   120.000000  \n",
       "unique         NaN  \n",
       "top            NaN  \n",
       "freq           NaN  \n",
       "mean      4.286667  \n",
       "std       0.194864  \n",
       "min       3.800000  \n",
       "25%       4.200000  \n",
       "50%       4.300000  \n",
       "75%       4.400000  \n",
       "max       4.600000  "
      ]
     },
     "execution_count": 20,
     "metadata": {},
     "output_type": "execute_result"
    }
   ],
   "source": [
    "df.describe(include='all')"
   ]
  },
  {
   "cell_type": "code",
   "execution_count": 23,
   "id": "e1b6f55b",
   "metadata": {},
   "outputs": [
    {
     "data": {
      "text/html": [
       "<div>\n",
       "<style scoped>\n",
       "    .dataframe tbody tr th:only-of-type {\n",
       "        vertical-align: middle;\n",
       "    }\n",
       "\n",
       "    .dataframe tbody tr th {\n",
       "        vertical-align: top;\n",
       "    }\n",
       "\n",
       "    .dataframe thead th {\n",
       "        text-align: right;\n",
       "    }\n",
       "</style>\n",
       "<table border=\"1\" class=\"dataframe\">\n",
       "  <thead>\n",
       "    <tr style=\"text-align: right;\">\n",
       "      <th></th>\n",
       "      <th>ID</th>\n",
       "      <th>MOBILE DATA</th>\n",
       "      <th>PRODUCT_NAME</th>\n",
       "      <th>PRICES</th>\n",
       "      <th>DESCRIPTION</th>\n",
       "      <th>REVIEWS</th>\n",
       "    </tr>\n",
       "  </thead>\n",
       "  <tbody>\n",
       "    <tr>\n",
       "      <th>0</th>\n",
       "      <td>55</td>\n",
       "      <td>54</td>\n",
       "      <td>\"APPLE iPhone 8 Plus (Gold, 64 GB)\"</td>\n",
       "      <td>49900</td>\n",
       "      <td>\"64 GB ROM13.97 cm (5.5 inch) Retina HD Displa...</td>\n",
       "      <td>4.6</td>\n",
       "    </tr>\n",
       "    <tr>\n",
       "      <th>1</th>\n",
       "      <td>56</td>\n",
       "      <td>55</td>\n",
       "      <td>\"APPLE iPhone 8 Plus (Silver, 64 GB)\"</td>\n",
       "      <td>49900</td>\n",
       "      <td>\"64 GB ROM13.97 cm (5.5 inch) Retina HD Displa...</td>\n",
       "      <td>4.6</td>\n",
       "    </tr>\n",
       "    <tr>\n",
       "      <th>2</th>\n",
       "      <td>57</td>\n",
       "      <td>56</td>\n",
       "      <td>\"OnePlus 11R 5G (Sonic Black, 256 GB)\"</td>\n",
       "      <td>43429</td>\n",
       "      <td>16 GB RAM | 256 GB ROM17.02 cm (6.7 inch) Disp...</td>\n",
       "      <td>4.5</td>\n",
       "    </tr>\n",
       "    <tr>\n",
       "      <th>3</th>\n",
       "      <td>58</td>\n",
       "      <td>57</td>\n",
       "      <td>\"OnePlus 11R 5G (Galactic Silver, 128 GB)\"</td>\n",
       "      <td>38891</td>\n",
       "      <td>8 GB RAM | 128 GB ROM17.02 cm (6.7 inch) Displ...</td>\n",
       "      <td>4.5</td>\n",
       "    </tr>\n",
       "    <tr>\n",
       "      <th>4</th>\n",
       "      <td>59</td>\n",
       "      <td>58</td>\n",
       "      <td>\"OnePlus 11R 5G (Sonic Black, 256 GB)\"</td>\n",
       "      <td>44400</td>\n",
       "      <td>16 GB RAM | 256 GB ROM17.02 cm (6.7 inch) Disp...</td>\n",
       "      <td>4.5</td>\n",
       "    </tr>\n",
       "  </tbody>\n",
       "</table>\n",
       "</div>"
      ],
      "text/plain": [
       "   ID  MOBILE DATA                                PRODUCT_NAME PRICES  \\\n",
       "0  55           54         \"APPLE iPhone 8 Plus (Gold, 64 GB)\"  49900   \n",
       "1  56           55       \"APPLE iPhone 8 Plus (Silver, 64 GB)\"  49900   \n",
       "2  57           56      \"OnePlus 11R 5G (Sonic Black, 256 GB)\"  43429   \n",
       "3  58           57  \"OnePlus 11R 5G (Galactic Silver, 128 GB)\"  38891   \n",
       "4  59           58      \"OnePlus 11R 5G (Sonic Black, 256 GB)\"  44400   \n",
       "\n",
       "                                         DESCRIPTION  REVIEWS  \n",
       "0  \"64 GB ROM13.97 cm (5.5 inch) Retina HD Displa...      4.6  \n",
       "1  \"64 GB ROM13.97 cm (5.5 inch) Retina HD Displa...      4.6  \n",
       "2  16 GB RAM | 256 GB ROM17.02 cm (6.7 inch) Disp...      4.5  \n",
       "3  8 GB RAM | 128 GB ROM17.02 cm (6.7 inch) Displ...      4.5  \n",
       "4  16 GB RAM | 256 GB ROM17.02 cm (6.7 inch) Disp...      4.5  "
      ]
     },
     "execution_count": 23,
     "metadata": {},
     "output_type": "execute_result"
    }
   ],
   "source": [
    "df['PRICES']=df['PRICES'].str.replace('₹','').str.replace(',','').str.replace('\"','')\n",
    "df.head()"
   ]
  },
  {
   "cell_type": "code",
   "execution_count": 24,
   "id": "b2de99f6",
   "metadata": {},
   "outputs": [],
   "source": [
    "df['PRICES']=pd.to_numeric(df['PRICES'])"
   ]
  },
  {
   "cell_type": "code",
   "execution_count": 25,
   "id": "cee5bc95",
   "metadata": {},
   "outputs": [
    {
     "data": {
      "text/plain": [
       "dtype('int64')"
      ]
     },
     "execution_count": 25,
     "metadata": {},
     "output_type": "execute_result"
    }
   ],
   "source": [
    "df[\"PRICES\"].dtype"
   ]
  },
  {
   "cell_type": "code",
   "execution_count": 26,
   "id": "19de2a7f",
   "metadata": {},
   "outputs": [
    {
     "data": {
      "text/plain": [
       "dtype('float64')"
      ]
     },
     "execution_count": 26,
     "metadata": {},
     "output_type": "execute_result"
    }
   ],
   "source": [
    "df['REVIEWS'].dtype"
   ]
  },
  {
   "cell_type": "code",
   "execution_count": 27,
   "id": "ed997593",
   "metadata": {},
   "outputs": [],
   "source": [
    "from matplotlib import pyplot as plt"
   ]
  },
  {
   "cell_type": "code",
   "execution_count": 28,
   "id": "08bcdb33",
   "metadata": {},
   "outputs": [
    {
     "data": {
      "image/png": "[encoded data removed]",
      "text/plain": [
       "<Figure size 640x480 with 1 Axes>"
      ]
     },
     "metadata": {},
     "output_type": "display_data"
    }
   ],
   "source": [
    "plt.scatter(df['PRICES'],df['REVIEWS'],c=['y'])\n",
    "plt.xlabel('Prices')\n",
    "plt.ylabel('Reviews')\n",
    "plt.show()"
   ]
  },
  {
   "cell_type": "code",
   "execution_count": 29,
   "id": "85dc1573",
   "metadata": {},
   "outputs": [
    {
     "data": {
      "text/plain": [
       "<cx_Oracle.Cursor on <cx_Oracle.Connection to XE@localhost>>"
      ]
     },
     "execution_count": 29,
     "metadata": {},
     "output_type": "execute_result"
    }
   ],
   "source": [
    "cur.execute('select product_name from mobile_under_50k where reviews=(select max(reviews) from mobile_under_50k)')"
   ]
  },
  {
   "cell_type": "code",
   "execution_count": 30,
   "id": "9693834c",
   "metadata": {},
   "outputs": [
    {
     "data": {
      "text/plain": [
       "'\"APPLE iPhone 8 Plus (Gold, 64 GB)\"'"
      ]
     },
     "execution_count": 30,
     "metadata": {},
     "output_type": "execute_result"
    }
   ],
   "source": [
    "cur.fetchone()[0]"
   ]
  },
  {
   "cell_type": "code",
   "execution_count": 31,
   "id": "95bfe9d4",
   "metadata": {},
   "outputs": [
    {
     "data": {
      "text/plain": [
       "count      120.000000\n",
       "mean     44287.108333\n",
       "std       4870.870848\n",
       "min      30000.000000\n",
       "25%      41986.750000\n",
       "50%      44990.000000\n",
       "75%      49499.000000\n",
       "max      50983.000000\n",
       "Name: PRICES, dtype: float64"
      ]
     },
     "execution_count": 31,
     "metadata": {},
     "output_type": "execute_result"
    }
   ],
   "source": [
    "df['PRICES'].describe()"
   ]
  },
  {
   "cell_type": "code",
   "execution_count": 32,
   "id": "501b1828",
   "metadata": {},
   "outputs": [
    {
     "data": {
      "text/plain": [
       "80"
      ]
     },
     "execution_count": 32,
     "metadata": {},
     "output_type": "execute_result"
    }
   ],
   "source": [
    "df['PRICES'].idxmax()"
   ]
  },
  {
   "cell_type": "code",
   "execution_count": 33,
   "id": "26d1939b",
   "metadata": {},
   "outputs": [
    {
     "data": {
      "text/plain": [
       "'\"OnePlus 10T 5G (Moonstone Black, 256 GB)\"'"
      ]
     },
     "execution_count": 33,
     "metadata": {},
     "output_type": "execute_result"
    }
   ],
   "source": [
    "df.at[80,'PRODUCT_NAME']"
   ]
  },
  {
   "cell_type": "code",
   "execution_count": 34,
   "id": "28fa19a4",
   "metadata": {},
   "outputs": [
    {
     "data": {
      "text/plain": [
       "'\"OnePlus 10T 5G (Moonstone Black, 256 GB)\"'"
      ]
     },
     "execution_count": 34,
     "metadata": {},
     "output_type": "execute_result"
    }
   ],
   "source": [
    "df.loc[80,'PRODUCT_NAME']"
   ]
  },
  {
   "cell_type": "code",
   "execution_count": 35,
   "id": "0043977a",
   "metadata": {},
   "outputs": [
    {
     "data": {
      "image/png": "[encoded data removed]",
      "text/plain": [
       "<Figure size 640x480 with 1 Axes>"
      ]
     },
     "metadata": {},
     "output_type": "display_data"
    }
   ],
   "source": [
    "plt.boxplot(df['PRICES'])\n",
    "plt.show()"
   ]
  },
  {
   "cell_type": "markdown",
   "id": "ebe875b8",
   "metadata": {},
   "source": [
    "## close cursor"
   ]
  },
  {
   "cell_type": "code",
   "execution_count": 36,
   "id": "d2baa583",
   "metadata": {},
   "outputs": [],
   "source": [
    "cur.close()"
   ]
  },
  {
   "cell_type": "markdown",
   "id": "c3730429",
   "metadata": {},
   "source": [
    "## close connection"
   ]
  },
  {
   "cell_type": "code",
   "execution_count": 37,
   "id": "76cc30c2",
   "metadata": {},
   "outputs": [],
   "source": [
    "con.close()"
   ]
  }
 ],
 "metadata": {
  "kernelspec": {
   "display_name": "Python 3 (ipykernel)",
   "language": "python",
   "name": "python3"
  },
  "language_info": {
   "codemirror_mode": {
    "name": "ipython",
    "version": 3
   },
   "file_extension": ".py",
   "mimetype": "text/x-python",
   "name": "python",
   "nbconvert_exporter": "python",
   "pygments_lexer": "ipython3",
   "version": "3.11.3"
  }
 },
 "nbformat": 4,
 "nbformat_minor": 5
}
